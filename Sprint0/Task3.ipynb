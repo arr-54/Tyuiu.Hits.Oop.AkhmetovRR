{
 "cells": [
  {
   "cell_type": "markdown",
   "metadata": {},
   "source": [
    "<h1 style=\"color:DodgerBlue\">Индивидуальный проект</h1>"
   ]
  },
  {
   "cell_type": "code",
   "execution_count": null,
   "metadata": {
    "language_info": {
     "name": "polyglot-notebook"
    },
    "polyglot_notebook": {
     "kernelName": "csharp"
    }
   },
   "outputs": [],
   "source": []
  },
  {
   "cell_type": "markdown",
   "metadata": {},
   "source": [
    "<h2 style=\"color:DodgerBlue\">Название проекта:</h2>\n",
    "\n",
    "### Вариант задания 2"
   ]
  },
  {
   "cell_type": "markdown",
   "metadata": {},
   "source": [
    "<h2 style=\"color:DodgerBlue\">Описание проекта:</h2>\n",
    "\n",
    "Описание задачи:\n",
    "Создать базовый класс Student в C#, который будет представлять информацию о\n",
    "студентах. На основе этого класса разработать 2-3 производных класса,\n",
    "демонстрирующих принципы наследования и полиморфизма. В каждом из классов\n",
    "должны быть реализованы новые атрибуты и методы, а также переопределены\n",
    "некоторые методы базового класса для демонстрации полиморфизма.\n",
    "\n",
    "Требования к базовому классу Student:\n",
    "\n",
    "1. Атрибуты: Имя (Name), Возраст (Age), Курс (Course).\n",
    "2. Методы:\n",
    "GetInfo(): метод для получения информации о студенте в виде строки.\n",
    "\n",
    "Study(): метод для вывода сообщения о том, что студент учится.\n",
    "\n",
    "TakeExam(): метод для вывода сообщения о сдаче экзамена.\n",
    "\n",
    "Требования к производным классам:\n",
    "\n",
    "1. Студент бакалавриата (BachelorStudent): Должен содержать дополнительные\n",
    "атрибуты, такие как Специальность (Specialty). Метод Study() должен быть\n",
    "переопределен для добавления информации о специальности при изучении\n",
    "предмета.\n",
    "2. Студент магистратуры (MasterStudent): Должен содержать дополнительные\n",
    "атрибуты, такие как Научный руководитель (ScientificAdvisor).\n",
    "Метод TakeExam() должен быть переопределен для добавления\n",
    "информации о научном руководителе при сдаче экзамена.\n",
    "3. Аспирант (PhDStudent) (если требуется третий класс): Должен содержать\n",
    "дополнительные атрибуты, такие как Тема диссертации (DissertationTopic).\n",
    "Метод Study() должен быть переопределен для добавления информации о\n",
    "теме диссертации при изучении предмета.\n"
   ]
  },
  {
   "cell_type": "markdown",
   "metadata": {},
   "source": [
    "<h2 style=\"color:DodgerBlue\">Реализация:</h2>\n",
    "\n",
    "----"
   ]
  },
  {
   "cell_type": "code",
   "execution_count": null,
   "metadata": {
    "dotnet_interactive": {
     "language": "csharp"
    },
    "polyglot_notebook": {
     "kernelName": "csharp"
    }
   },
   "outputs": [],
   "source": [
    "using System;\n",
    "using System.Collections.Generic;\n",
    "\n",
    "public class Student\n",
    "{\n",
    "    public string Name { get; set; }\n",
    "    public int Age { get; set; }\n",
    "    public decimal Curs { get; set; }\n",
    "\n",
    "    public Student(string Name, int Age, decimal Curs)\n",
    "    {\n",
    "        this.Name = Name;\n",
    "        this.Age = Age;\n",
    "        this.Curs = Curs;\n",
    "    }\n",
    "    \n",
    "    public virtual void GetInfo()\n",
    "    {\n",
    "        Console.WriteLine($\"{Name}, {Age}, {Curs}.\");\n",
    "    }\n",
    "\n",
    "    public virtual void Study()\n",
    "    {\n",
    "        Console.WriteLine(\"Студент учится\");\n",
    "    }\n",
    "\n",
    "    public virtual void TakeExam()\n",
    "    {\n",
    "        Console.WriteLine(\"Студент успешно сдал экзамен\");\n",
    "    }\n",
    "}\n",
    "public class BachelorStudent: Student\n",
    "{\n",
    "    public string Specialty {get; set;}\n",
    "    \n",
    "    public BachelorStudent(string Name, int Age, decimal Curs, string Specialty)  : base(Name, Age, Curs)\n",
    "    {\n",
    "        this.Specialty = Specialty;\n",
    "    }\n",
    "\n",
    "    public override void Study()\n",
    "    {\n",
    "        Console.WriteLine($\"Студент {Name} учится на специальности {Specialty}\");\n",
    "    }\n",
    "}\n",
    "public class MasterStudent: Student\n",
    "{\n",
    "    public string ScientificAdvisor {get; set;}\n",
    "\n",
    "    public MasterStudent(string Name, int Age, decimal Curs, string ScientificAdvisor) : base(Name, Age, Curs)\n",
    "    {\n",
    "        this.ScientificAdvisor = ScientificAdvisor;\n",
    "    }\n",
    "\n",
    "    public override void TakeExam()\n",
    "    {\n",
    "        Console.WriteLine($\"У студента {Name} научный руководитель {Name}\");\n",
    "    }\n",
    "}\n",
    "public class PhDStudent: Student\n",
    "{\n",
    "    public string DissertationTopic {get; set;}\n",
    "\n",
    "    public PhDStudent(string Name, int Age, decimal Curs, string DissertationTopic) : base(Name, Age, Curs)\n",
    "    {\n",
    "        this.DissertationTopic = DissertationTopic;\n",
    "    }\n",
    "\n",
    "    public override void Study()\n",
    "    {\n",
    "        Console.WriteLine($\"При изучении предмета у студента {Name} тема диссертации {Name}\");\n",
    "    }\n",
    "}"
   ]
  }
 ],
 "metadata": {
  "kernelspec": {
   "display_name": ".NET (C#)",
   "language": "C#",
   "name": ".net-csharp"
  },
  "polyglot_notebook": {
   "kernelInfo": {
    "defaultKernelName": "csharp",
    "items": [
     {
      "aliases": [],
      "languageName": "csharp",
      "name": "csharp"
     }
    ]
   }
  }
 },
 "nbformat": 4,
 "nbformat_minor": 2
}
